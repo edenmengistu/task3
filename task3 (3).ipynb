{
 "cells": [
  {
   "cell_type": "code",
   "execution_count": 8,
   "id": "2a786033-9cf0-4ea8-9f65-07413795a111",
   "metadata": {},
   "outputs": [],
   "source": [
    "import requests\n",
    "import json\n",
    "import pandas as pd"
   ]
  },
  {
   "cell_type": "code",
   "execution_count": 2,
   "id": "ad4f5bb1-a03f-4fb3-88e7-a47595ac7286",
   "metadata": {},
   "outputs": [],
   "source": [
    "api_key = 'AIzaS*******'"
   ]
  },
  {
   "cell_type": "code",
   "execution_count": 3,
   "id": "0202498b-dd54-47e8-8f0c-96aed3bd5487",
   "metadata": {},
   "outputs": [
    {
     "name": "stdout",
     "output_type": "stream",
     "text": [
      "<class 'dict'>\n"
     ]
    }
   ],
   "source": [
    "address=\"Tel Aviv , Israel\"\n",
    "url=\"https://maps.googleapis.com/maps/api/geocode/json?address=%s&key=%s\" % (address,api_key)\n",
    "response = requests.get(url).json()  # if the response is of json format the .json() will load the json into a python object\n",
    "print(type(response))"
   ]
  },
  {
   "cell_type": "code",
   "execution_count": 25,
   "id": "5197afa3-4eab-4639-bc56-50a5b9353f27",
   "metadata": {},
   "outputs": [
    {
     "data": {
      "text/plain": [
       "<Response [200]>"
      ]
     },
     "execution_count": 25,
     "metadata": {},
     "output_type": "execute_result"
    }
   ],
   "source": [
    "response"
   ]
  },
  {
   "cell_type": "code",
   "execution_count": 11,
   "id": "212ada12-89de-463b-9b47-e29c3ed0887b",
   "metadata": {},
   "outputs": [],
   "source": [
    "with open('dests.txt', 'r') as file:\n",
    "    destinations = file.read().splitlines()"
   ]
  },
  {
   "cell_type": "code",
   "execution_count": 18,
   "id": "f6be5331-0c7c-4295-b531-94574eb39309",
   "metadata": {},
   "outputs": [
    {
     "name": "stderr",
     "output_type": "stream",
     "text": [
      "C:\\Users\\edenm\\AppData\\Local\\Temp\\ipykernel_11068\\293447503.py:30: FutureWarning: The frame.append method is deprecated and will be removed from pandas in a future version. Use pandas.concat instead.\n",
      "  df = df.append({\n",
      "C:\\Users\\edenm\\AppData\\Local\\Temp\\ipykernel_11068\\293447503.py:30: FutureWarning: The frame.append method is deprecated and will be removed from pandas in a future version. Use pandas.concat instead.\n",
      "  df = df.append({\n",
      "C:\\Users\\edenm\\AppData\\Local\\Temp\\ipykernel_11068\\293447503.py:30: FutureWarning: The frame.append method is deprecated and will be removed from pandas in a future version. Use pandas.concat instead.\n",
      "  df = df.append({\n",
      "C:\\Users\\edenm\\AppData\\Local\\Temp\\ipykernel_11068\\293447503.py:30: FutureWarning: The frame.append method is deprecated and will be removed from pandas in a future version. Use pandas.concat instead.\n",
      "  df = df.append({\n",
      "C:\\Users\\edenm\\AppData\\Local\\Temp\\ipykernel_11068\\293447503.py:30: FutureWarning: The frame.append method is deprecated and will be removed from pandas in a future version. Use pandas.concat instead.\n",
      "  df = df.append({\n"
     ]
    },
    {
     "data": {
      "text/html": [
       "<div>\n",
       "<style scoped>\n",
       "    .dataframe tbody tr th:only-of-type {\n",
       "        vertical-align: middle;\n",
       "    }\n",
       "\n",
       "    .dataframe tbody tr th {\n",
       "        vertical-align: top;\n",
       "    }\n",
       "\n",
       "    .dataframe thead th {\n",
       "        text-align: right;\n",
       "    }\n",
       "</style>\n",
       "<table border=\"1\" class=\"dataframe\">\n",
       "  <thead>\n",
       "    <tr style=\"text-align: right;\">\n",
       "      <th></th>\n",
       "      <th>Target</th>\n",
       "      <th>Distance_km</th>\n",
       "      <th>Duration (hour+minutes)</th>\n",
       "      <th>Longitude</th>\n",
       "      <th>Latitude</th>\n",
       "    </tr>\n",
       "  </thead>\n",
       "  <tbody>\n",
       "    <tr>\n",
       "      <th>0</th>\n",
       "      <td>Istanbul</td>\n",
       "      <td>1,815 km</td>\n",
       "      <td>21 hours 3 mins</td>\n",
       "      <td>28.978359</td>\n",
       "      <td>41.008238</td>\n",
       "    </tr>\n",
       "    <tr>\n",
       "      <th>1</th>\n",
       "      <td>Amsterdam</td>\n",
       "      <td>4,533 km</td>\n",
       "      <td>2 days 0 hours</td>\n",
       "      <td>4.904139</td>\n",
       "      <td>52.367573</td>\n",
       "    </tr>\n",
       "    <tr>\n",
       "      <th>2</th>\n",
       "      <td>Valletta</td>\n",
       "      <td>3,793 km</td>\n",
       "      <td>2 days 3 hours</td>\n",
       "      <td>14.514100</td>\n",
       "      <td>35.899237</td>\n",
       "    </tr>\n",
       "    <tr>\n",
       "      <th>3</th>\n",
       "      <td>Basel</td>\n",
       "      <td>4,093 km</td>\n",
       "      <td>1 day 20 hours</td>\n",
       "      <td>7.588576</td>\n",
       "      <td>47.559599</td>\n",
       "    </tr>\n",
       "    <tr>\n",
       "      <th>4</th>\n",
       "      <td>Doha</td>\n",
       "      <td>2,164 km</td>\n",
       "      <td>22 hours 39 mins</td>\n",
       "      <td>51.531040</td>\n",
       "      <td>25.285447</td>\n",
       "    </tr>\n",
       "  </tbody>\n",
       "</table>\n",
       "</div>"
      ],
      "text/plain": [
       "      Target Distance_km Duration (hour+minutes)  Longitude   Latitude\n",
       "0   Istanbul    1,815 km         21 hours 3 mins  28.978359  41.008238\n",
       "1  Amsterdam    4,533 km          2 days 0 hours   4.904139  52.367573\n",
       "2   Valletta    3,793 km          2 days 3 hours  14.514100  35.899237\n",
       "3      Basel    4,093 km          1 day 20 hours   7.588576  47.559599\n",
       "4       Doha    2,164 km        22 hours 39 mins  51.531040  25.285447"
      ]
     },
     "execution_count": 18,
     "metadata": {},
     "output_type": "execute_result"
    }
   ],
   "source": [
    " # Initialize an empty DataFrame   \n",
    "data = {'Target': [], 'Distance_km': [], 'Duration (hour+minutes)': [], 'Longitude': [], 'Latitude': []}\n",
    "df = pd.DataFrame(data)\n",
    "\n",
    "# Process each destination\n",
    "for destination in destinations:\n",
    "    # Retrieve distance and duration using Distance Matrix API\n",
    "    distance_url = f\"https://maps.googleapis.com/maps/api/distancematrix/json?origins=Tel+Aviv&destinations={destination}&key={api_key}\"\n",
    "    distance_response = requests.get(distance_url)\n",
    "    distance_data = distance_response.json()\n",
    "\n",
    "    if distance_data['status'] == 'OK':\n",
    "        distance = distance_data['rows'][0]['elements'][0]['distance']['text']\n",
    "        duration = distance_data['rows'][0]['elements'][0]['duration']['text']\n",
    "    else:\n",
    "        distance, duration = None, None\n",
    "\n",
    "    # Retrieve geolocation using Geocoding API\n",
    "    geocode_url = f\"https://maps.googleapis.com/maps/api/geocode/json?address={destination}&key={api_key}\"\n",
    "    geocode_response = requests.get(geocode_url)\n",
    "    geocode_data = geocode_response.json()\n",
    "\n",
    "    if geocode_data['status'] == 'OK':\n",
    "        latitude = geocode_data['results'][0]['geometry']['location']['lat']\n",
    "        longitude = geocode_data['results'][0]['geometry']['location']['lng']\n",
    "    else:\n",
    "        latitude, longitude = None, None\n",
    "\n",
    "    # Add the data to the DataFrame\n",
    "    df = df.append({\n",
    "        'Target': destination,\n",
    "        'Distance_km': distance,\n",
    "        'Duration (hour+minutes)': duration,\n",
    "        'Longitude': longitude,\n",
    "        'Latitude': latitude\n",
    "    }, ignore_index=True)\n",
    "\n",
    "# Print the DataFrame\n",
    "df"
   ]
  },
  {
   "cell_type": "code",
   "execution_count": 24,
   "id": "3d11a848-5da7-434d-9ccb-dd4dabb3ae1c",
   "metadata": {},
   "outputs": [
    {
     "data": {
      "text/html": [
       "<div>\n",
       "<style scoped>\n",
       "    .dataframe tbody tr th:only-of-type {\n",
       "        vertical-align: middle;\n",
       "    }\n",
       "\n",
       "    .dataframe tbody tr th {\n",
       "        vertical-align: top;\n",
       "    }\n",
       "\n",
       "    .dataframe thead th {\n",
       "        text-align: right;\n",
       "    }\n",
       "</style>\n",
       "<table border=\"1\" class=\"dataframe\">\n",
       "  <thead>\n",
       "    <tr style=\"text-align: right;\">\n",
       "      <th></th>\n",
       "      <th>Target</th>\n",
       "      <th>Distance_km</th>\n",
       "      <th>Duration (hour+minutes)</th>\n",
       "      <th>Longitude</th>\n",
       "      <th>Latitude</th>\n",
       "    </tr>\n",
       "  </thead>\n",
       "  <tbody>\n",
       "    <tr>\n",
       "      <th>1</th>\n",
       "      <td>Amsterdam</td>\n",
       "      <td>4,533 km</td>\n",
       "      <td>2 days 0 hours</td>\n",
       "      <td>4.904139</td>\n",
       "      <td>52.367573</td>\n",
       "    </tr>\n",
       "    <tr>\n",
       "      <th>3</th>\n",
       "      <td>Basel</td>\n",
       "      <td>4,093 km</td>\n",
       "      <td>1 day 20 hours</td>\n",
       "      <td>7.588576</td>\n",
       "      <td>47.559599</td>\n",
       "    </tr>\n",
       "    <tr>\n",
       "      <th>2</th>\n",
       "      <td>Valletta</td>\n",
       "      <td>3,793 km</td>\n",
       "      <td>2 days 3 hours</td>\n",
       "      <td>14.514100</td>\n",
       "      <td>35.899237</td>\n",
       "    </tr>\n",
       "  </tbody>\n",
       "</table>\n",
       "</div>"
      ],
      "text/plain": [
       "      Target Distance_km Duration (hour+minutes)  Longitude   Latitude\n",
       "1  Amsterdam    4,533 km          2 days 0 hours   4.904139  52.367573\n",
       "3      Basel    4,093 km          1 day 20 hours   7.588576  47.559599\n",
       "2   Valletta    3,793 km          2 days 3 hours  14.514100  35.899237"
      ]
     },
     "execution_count": 24,
     "metadata": {},
     "output_type": "execute_result"
    }
   ],
   "source": [
    "df_sorted = df.sort_values(by='Distance_km', ascending=False)\n",
    "furthest_cities = df_sorted.head(3)\n",
    "furthest_cities"
   ]
  },
  {
   "cell_type": "code",
   "execution_count": null,
   "id": "15bcd723-407b-41c5-ae41-c254bb48d3d7",
   "metadata": {},
   "outputs": [],
   "source": []
  }
 ],
 "metadata": {
  "kernelspec": {
   "display_name": "Python 3 (ipykernel)",
   "language": "python",
   "name": "python3"
  },
  "language_info": {
   "codemirror_mode": {
    "name": "ipython",
    "version": 3
   },
   "file_extension": ".py",
   "mimetype": "text/x-python",
   "name": "python",
   "nbconvert_exporter": "python",
   "pygments_lexer": "ipython3",
   "version": "3.10.9"
  }
 },
 "nbformat": 4,
 "nbformat_minor": 5
}
